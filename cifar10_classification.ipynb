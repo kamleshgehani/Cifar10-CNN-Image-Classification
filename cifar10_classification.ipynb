{
  "cells": [
    {
      "cell_type": "markdown",
      "source": [
        "Cifar 10 - Image Classification - Python - Keras - Kamlesh\n",
        "---\n",
        "\n",
        "\n",
        "\n",
        "---\n",
        "\n"
      ],
      "metadata": {
        "id": "yzNUl0xgAQWc"
      }
    },
    {
      "cell_type": "markdown",
      "metadata": {
        "id": "ZkSpsFHUNMT7"
      },
      "source": [
        "# Importing Libraries"
      ]
    },
    {
      "cell_type": "code",
      "execution_count": null,
      "metadata": {
        "id": "tC1nd912MkbP"
      },
      "outputs": [],
      "source": [
        "import numpy as np\n",
        "import keras\n",
        "from keras.datasets import cifar10\n",
        "from keras.models import Sequential\n",
        "from keras.layers import Conv2D, MaxPooling2D, Dense, Flatten, Dropout, BatchNormalization\n",
        "from keras.optimizers import Adam\n",
        "from keras.utils import to_categorical\n",
        "from keras.callbacks import EarlyStopping\n"
      ]
    },
    {
      "cell_type": "markdown",
      "metadata": {
        "id": "R3XkRRIgNQ2y"
      },
      "source": [
        "## Loading and Preprocesing Dataset"
      ]
    },
    {
      "cell_type": "code",
      "execution_count": null,
      "metadata": {
        "id": "nS_kEMymMn9b"
      },
      "outputs": [],
      "source": [
        "# Load the dataset\n",
        "(x_train, y_train), (x_test, y_test) = cifar10.load_data()\n",
        "# Preprocess the data\n",
        "x_train = x_train.astype('float32') / 255.0\n",
        "x_test = x_test.astype('float32') / 255.0\n",
        "y_train = to_categorical(y_train, 10)\n",
        "y_test = to_categorical(y_test, 10)"
      ]
    },
    {
      "cell_type": "markdown",
      "metadata": {
        "id": "yE836OcNNVr6"
      },
      "source": [
        "## Building CNN Model"
      ]
    },
    {
      "cell_type": "code",
      "execution_count": null,
      "metadata": {
        "id": "ABTdqrf-MvOJ"
      },
      "outputs": [],
      "source": [
        "# Build the CNN model\n",
        "model = Sequential()\n",
        "model.add(Conv2D(32, (3, 3), activation='relu', padding='same', input_shape=(32, 32, 3)))\n",
        "model.add(BatchNormalization())\n",
        "model.add(Conv2D(32, (3, 3), activation='relu', padding='same'))\n",
        "model.add(BatchNormalization())\n",
        "model.add(MaxPooling2D(pool_size=(2, 2)))\n",
        "model.add(Dropout(0.3))\n",
        "\n",
        "model.add(Conv2D(64, (3, 3), activation='relu', padding='same'))\n",
        "model.add(BatchNormalization())\n",
        "model.add(Conv2D(64, (3, 3), activation='relu', padding='same'))\n",
        "model.add(BatchNormalization())\n",
        "model.add(MaxPooling2D(pool_size=(2, 2)))\n",
        "model.add(Dropout(0.5))\n",
        "\n",
        "model.add(Conv2D(128, (3, 3), activation='relu', padding='same'))\n",
        "model.add(BatchNormalization())\n",
        "model.add(Conv2D(128, (3, 3), activation='relu', padding='same'))\n",
        "model.add(BatchNormalization())\n",
        "model.add(MaxPooling2D(pool_size=(2, 2)))\n",
        "model.add(Dropout(0.5))\n",
        "\n",
        "model.add(Flatten())\n",
        "model.add(Dense(128, activation='relu'))\n",
        "model.add(BatchNormalization())\n",
        "model.add(Dropout(0.5))\n",
        "model.add(Dense(10, activation='softmax'))\n",
        "\n",
        "\n"
      ]
    },
    {
      "cell_type": "code",
      "source": [
        "# Compile the model\n",
        "model.compile(optimizer=Adam(learning_rate=0.001), loss='categorical_crossentropy', metrics=['accuracy'])"
      ],
      "metadata": {
        "id": "G71h7nDR-bFO"
      },
      "execution_count": null,
      "outputs": []
    },
    {
      "cell_type": "code",
      "source": [
        "# Train the model\n",
        "early_stopping = EarlyStopping(monitor='val_loss', patience=10, restore_best_weights=True)\n",
        "model.fit(x_train, y_train, batch_size=64, epochs=10, validation_data=(x_test, y_test), callbacks=[early_stopping])\n"
      ],
      "metadata": {
        "colab": {
          "base_uri": "https://localhost:8080/"
        },
        "id": "z9NP2vbv-kq8",
        "outputId": "86490a76-370d-475e-c7c5-557fd876ea8b"
      },
      "execution_count": null,
      "outputs": [
        {
          "output_type": "stream",
          "name": "stdout",
          "text": [
            "Epoch 1/10\n",
            "782/782 [==============================] - 12s 13ms/step - loss: 1.7373 - accuracy: 0.4041 - val_loss: 1.5896 - val_accuracy: 0.4172\n",
            "Epoch 2/10\n",
            "782/782 [==============================] - 10s 12ms/step - loss: 1.1839 - accuracy: 0.5761 - val_loss: 1.0465 - val_accuracy: 0.6272\n",
            "Epoch 3/10\n",
            "782/782 [==============================] - 10s 12ms/step - loss: 0.9966 - accuracy: 0.6471 - val_loss: 0.9123 - val_accuracy: 0.6820\n",
            "Epoch 4/10\n",
            "782/782 [==============================] - 9s 12ms/step - loss: 0.8879 - accuracy: 0.6886 - val_loss: 0.9442 - val_accuracy: 0.6691\n",
            "Epoch 5/10\n",
            "782/782 [==============================] - 10s 13ms/step - loss: 0.8124 - accuracy: 0.7169 - val_loss: 0.7520 - val_accuracy: 0.7407\n",
            "Epoch 6/10\n",
            "782/782 [==============================] - 9s 12ms/step - loss: 0.7546 - accuracy: 0.7405 - val_loss: 0.6761 - val_accuracy: 0.7681\n",
            "Epoch 7/10\n",
            "782/782 [==============================] - 10s 13ms/step - loss: 0.7035 - accuracy: 0.7579 - val_loss: 0.6780 - val_accuracy: 0.7673\n",
            "Epoch 8/10\n",
            "782/782 [==============================] - 10s 12ms/step - loss: 0.6779 - accuracy: 0.7677 - val_loss: 0.6107 - val_accuracy: 0.7915\n",
            "Epoch 9/10\n",
            "782/782 [==============================] - 9s 12ms/step - loss: 0.6412 - accuracy: 0.7795 - val_loss: 0.6942 - val_accuracy: 0.7673\n",
            "Epoch 10/10\n",
            "782/782 [==============================] - 9s 12ms/step - loss: 0.6180 - accuracy: 0.7882 - val_loss: 0.6248 - val_accuracy: 0.7892\n"
          ]
        },
        {
          "output_type": "execute_result",
          "data": {
            "text/plain": [
              "<keras.callbacks.History at 0x7f270ba096d0>"
            ]
          },
          "metadata": {},
          "execution_count": 18
        }
      ]
    },
    {
      "cell_type": "markdown",
      "metadata": {
        "id": "okIsNhjxNe9h"
      },
      "source": [
        "# Testing Random Data"
      ]
    },
    {
      "cell_type": "code",
      "execution_count": null,
      "metadata": {
        "id": "OgxrEbUCM-Lx",
        "colab": {
          "base_uri": "https://localhost:8080/",
          "height": 272
        },
        "outputId": "84d3c7fd-246b-4f0c-8d4f-4c09597b3d5d"
      },
      "outputs": [
        {
          "output_type": "stream",
          "name": "stdout",
          "text": [
            "313/313 [==============================] - 1s 3ms/step\n"
          ]
        },
        {
          "output_type": "display_data",
          "data": {
            "text/plain": [
              "<Figure size 1500x300 with 5 Axes>"
            ],
            "image/png": "[encoded data removed]"
          },
          "metadata": {}
        }
      ],
      "source": [
        "import random\n",
        "import matplotlib.pyplot as plt\n",
        "\n",
        "# Class names\n",
        "class_names = ['airplane', 'automobile', 'bird', 'cat', 'deer', 'dog', 'frog', 'horse', 'ship', 'truck']\n",
        "\n",
        "# Make predictions\n",
        "predictions = model.predict(x_test)\n",
        "\n",
        "# Plot random images with predictions\n",
        "num_images = 5\n",
        "random_indices = random.sample(range(x_test.shape[0]), num_images)\n",
        "plt.figure(figsize=(15, 3))\n",
        "for i, idx in enumerate(random_indices):\n",
        "    plt.subplot(1, num_images, i + 1)\n",
        "    plt.imshow(x_test[idx])\n",
        "    plt.title(f\"True: {class_names[np.argmax(y_test[idx])]}, Pred: {class_names[np.argmax(predictions[idx])]}\")\n",
        "    plt.axis('off')\n",
        "\n",
        "plt.show()"
      ]
    },
    {
      "cell_type": "code",
      "source": [],
      "metadata": {
        "id": "PHGC-qRh_J2y"
      },
      "execution_count": null,
      "outputs": []
    }
  ],
  "metadata": {
    "accelerator": "GPU",
    "colab": {
      "provenance": []
    },
    "gpuClass": "standard",
    "kernelspec": {
      "display_name": "Python 3",
      "name": "python3"
    },
    "language_info": {
      "name": "python"
    }
  },
  "nbformat": 4,
  "nbformat_minor": 0
}